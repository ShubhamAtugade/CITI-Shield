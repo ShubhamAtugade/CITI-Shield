{
 "cells": [
  {
   "cell_type": "code",
   "execution_count": 1,
   "id": "ddb19685-2f7b-48ed-8c4f-05af35531f9c",
   "metadata": {},
   "outputs": [
    {
     "name": "stdout",
     "output_type": "stream",
     "text": [
      "        Date      Time                  Police Station       City  \\\n",
      "0 2023-12-26  18:12:15     Nungambakkam Police Station      Patna   \n",
      "1 2023-03-01  15:03:00  Connaught Place Police Station    Kolkata   \n",
      "2 2023-12-03  01:25:20     Nungambakkam Police Station  Bengaluru   \n",
      "3 2023-09-21  21:00:24       Cantonment Police Station      Patna   \n",
      "4 2023-08-24  18:24:50     Lajpat Nagar Police Station    Chennai   \n",
      "\n",
      "         State   Crime Type Fir Number  \n",
      "0        Bihar  Cyber Crime  FIR000001  \n",
      "1  West Bengal        Theft  FIR000002  \n",
      "2    Karnataka       Murder  FIR000003  \n",
      "3        Bihar   Kidnapping  FIR000004  \n",
      "4   Tamil Nadu   Kidnapping  FIR000005  \n"
     ]
    }
   ],
   "source": [
    "import pandas as pd\n",
    "\n",
    "# Load the dataset\n",
    "data = pd.read_csv('crime_data.csv')\n",
    "\n",
    "# Let pandas infer the date format automatically\n",
    "data['Date'] = pd.to_datetime(data['Date'])\n",
    "\n",
    "# Check the processed data\n",
    "print(data.head())\n"
   ]
  },
  {
   "cell_type": "code",
   "execution_count": 4,
   "id": "41505a09-7a40-4e00-a590-834e17abe0eb",
   "metadata": {},
   "outputs": [
    {
     "name": "stdout",
     "output_type": "stream",
     "text": [
      "        Date      Time                  Police Station  City        State  \\\n",
      "0 2023-12-26  18:12:15     Nungambakkam Police Station     9        Bihar   \n",
      "1 2023-03-01  15:03:00  Connaught Place Police Station     5  West Bengal   \n",
      "2 2023-12-03  01:25:20     Nungambakkam Police Station     1    Karnataka   \n",
      "3 2023-09-21  21:00:24       Cantonment Police Station     9        Bihar   \n",
      "4 2023-08-24  18:24:50     Lajpat Nagar Police Station     2   Tamil Nadu   \n",
      "\n",
      "   Crime Type Fir Number  Year  Month  Day  Weekday  \n",
      "0           1  FIR000001  2023     12   26        1  \n",
      "1           6  FIR000002  2023      3    1        2  \n",
      "2           4  FIR000003  2023     12    3        6  \n",
      "3           3  FIR000004  2023      9   21        3  \n",
      "4           3  FIR000005  2023      8   24        3  \n"
     ]
    }
   ],
   "source": [
    "import pandas as pd\n",
    "from sklearn.preprocessing import LabelEncoder\n",
    "\n",
    "\n",
    "# Load the dataset\n",
    "data = pd.read_csv('crime_data.csv')\n",
    "\n",
    "# Correct the format to match YYYY-MM-DD\n",
    "data['Date'] = pd.to_datetime(data['Date'], format='%Y-%m-%d')\n",
    "\n",
    "# Extract Year, Month, Day, and Weekday from 'Date'\n",
    "data['Year'] = data['Date'].dt.year\n",
    "data['Month'] = data['Date'].dt.month\n",
    "data['Day'] = data['Date'].dt.day\n",
    "data['Weekday'] = data['Date'].dt.weekday\n",
    "\n",
    "# Encode categorical variables (City, Crime Type)\n",
    "label_encoder = LabelEncoder()\n",
    "data['City'] = label_encoder.fit_transform(data['City'])\n",
    "data['Crime Type'] = label_encoder.fit_transform(data['Crime Type'])\n",
    "\n",
    "# Check the processed data\n",
    "print(data.head())\n"
   ]
  },
  {
   "cell_type": "code",
   "execution_count": null,
   "id": "dce7bd25-14fd-429e-ba0a-ac0b8a6066f0",
   "metadata": {},
   "outputs": [],
   "source": []
  }
 ],
 "metadata": {
  "kernelspec": {
   "display_name": "Python 3 (ipykernel)",
   "language": "python",
   "name": "python3"
  },
  "language_info": {
   "codemirror_mode": {
    "name": "ipython",
    "version": 3
   },
   "file_extension": ".py",
   "mimetype": "text/x-python",
   "name": "python",
   "nbconvert_exporter": "python",
   "pygments_lexer": "ipython3",
   "version": "3.12.4"
  }
 },
 "nbformat": 4,
 "nbformat_minor": 5
}
